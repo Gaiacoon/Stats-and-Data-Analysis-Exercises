{
 "cells": [
  {
   "cell_type": "markdown",
   "metadata": {},
   "source": [
    "## Data wrangling & summary statistics\n",
    "### Tidy up the mess (20 points)\n",
    "\n",
    "Here’s a messy data set from an experiment in which participants saw three critical conditions, and had to respond with pressing a button for either option A or option B. There were four participants in the experiment, identified anonymously in variable subject_id. The button press and associated reaction times of each of three trials are stored, respectively, in columns choices and reaction_times (in milliseconds) in a string which separates the data from different trials either with a comma (for choices) or a single white space (for reaction_times).\n",
    "\n",
    "messy_data <- tribble(\n",
    "  ~subject_id,  ~choices,  ~reaction_times,\n",
    "  1,            \"A,B,B\",   \"312 433 365\",\n",
    "  2,            \"B,A,B\",   \"393 491 327\",\n",
    "  3,            \"B,A,A\",   \"356 313 475\",\n",
    "  4,            \"A,B,B\",   \"292 352 378\"\n",
    ")\n",
    "## # A tibble: 12 x 4\n",
    "##    subject_id condition response    RT\n",
    "##         <dbl> <chr>     <chr>    <int>\n",
    "##  1          1 C_1       A          312\n",
    "##  2          1 C_2       B          433\n",
    "##  3          1 C_3       B          365\n",
    "##  4          2 C_1       B          393\n",
    "##  5          2 C_2       A          491\n",
    "##  6          2 C_3       B          327\n",
    "##  7          3 C_1       B          356\n",
    "##  8          3 C_2       A          313\n",
    "##  9          3 C_3       A          475\n",
    "## 10          4 C_1       A          292\n",
    "## 11          4 C_2       B          352\n",
    "## 12          4 C_3       B          378"
   ]
  },
  {
   "cell_type": "code",
   "execution_count": 1,
   "metadata": {},
   "outputs": [
    {
     "name": "stdout",
     "output_type": "stream",
     "text": [
      "   subject_id choices reaction_times\n",
      "0           1   A,B,B    312 433 365\n",
      "1           2   B,A,B    393 491 327\n",
      "2           3   B,A,A    356 313 475\n",
      "3           4   A,B,B    292 352 378\n"
     ]
    }
   ],
   "source": [
    "import pandas as pd\n",
    "import numpy as np\n",
    "import pandas as pd\n",
    "\n",
    "data = {\n",
    "    \"subject_id\": [1, 2, 3, 4],\n",
    "    \"choices\": [\"A,B,B\", \"B,A,B\", \"B,A,A\", \"A,B,B\"],\n",
    "    \"reaction_times\": [\"312 433 365\", \"393 491 327\", \"356 313 475\", \"292 352 378\"]\n",
    "}\n",
    "\n",
    "messy_data = pd.DataFrame(data)\n",
    "print(messy_data)"
   ]
  },
  {
   "cell_type": "code",
   "execution_count": 14,
   "metadata": {},
   "outputs": [
    {
     "name": "stdout",
     "output_type": "stream",
     "text": [
      "    subject_id response   RT condition\n",
      "0            1        A  312       C_1\n",
      "1            1        B  433       C_2\n",
      "2            1        B  365       C_3\n",
      "3            2        B  393       C_1\n",
      "4            2        A  491       C_2\n",
      "5            2        B  327       C_3\n",
      "6            3        B  356       C_1\n",
      "7            3        A  313       C_2\n",
      "8            3        A  475       C_3\n",
      "9            4        A  292       C_1\n",
      "10           4        B  352       C_2\n",
      "11           4        B  378       C_3\n"
     ]
    }
   ],
   "source": [
    "# tidy up the data by splitting the strings in the choices and reaction_times columns, and add a column for condition c_1, c_2, c_3, so at the end we have 12 rows\n",
    "# and a column for choice and reaction time\n",
    "# Create the initial DataFrame\n",
    "messy_data = pd.DataFrame(data)\n",
    "\n",
    "# Split the 'choices' and 'reaction_times' columns into lists\n",
    "messy_data['choices'] = messy_data['choices'].str.split(',')\n",
    "#print(messy_data['choices'])\n",
    "messy_data['reaction_times'] = messy_data['reaction_times'].str.split()\n",
    "#print(messy_data['reaction_times'])\n",
    "\n",
    "# Create a new DataFrame by expanding the lists into individual rows\n",
    "tidy_data = messy_data.explode(['choices', 'reaction_times'])\n",
    "#print(tidy_data)\n",
    "\n",
    "# Add the 'condition' column\n",
    "conditions = ['C_1', 'C_2', 'C_3']\n",
    "tidy_data['condition'] = conditions * (len(tidy_data) // len(conditions))\n",
    "\n",
    "# Rename columns for clarity\n",
    "tidy_data.rename(columns={'choices': 'response', 'reaction_times': 'RT'}, inplace=True)\n",
    "\n",
    "# Convert 'RT' column to integer\n",
    "tidy_data['RT'] = tidy_data['RT'].astype(int)\n",
    "\n",
    "# Reset index for a clean DataFrame\n",
    "tidy_data.reset_index(drop=True, inplace=True)\n",
    "\n",
    "# Print the tidy DataFrame\n",
    "print(tidy_data)\n"
   ]
  },
  {
   "cell_type": "markdown",
   "metadata": {},
   "source": [
    "Summarize the reaction times \n",
    "\n",
    "Use the final tidy representation of the messy_data from the previous exercise, stored in a variable tidy_data. Produce a summary table of mean reaction times per condition, using the tools from the tidyverse. Your output should look like this:\n",
    "## # A tibble: 3 x 2\n",
    "##   condition mean_RT\n",
    "##   <chr>       <dbl>\n",
    "## 1 C_1          338.\n",
    "## 2 C_2          397.\n",
    "## 3 C_3          386.\n",
    "\n",
    "Now produce a table giving the mean reaction times for each participant. But make sure that, in this case, the mean reaction times are rounded to full integers. (Hint: you can use mutate in a final step or round inside of a call to summarise). The output should look like this:\n",
    "\n",
    "## # A tibble: 4 x 2\n",
    "##   subject_id mean_RT\n",
    "##        <dbl>   <dbl>\n",
    "## 1          1     370\n",
    "## 2          2     404\n",
    "## 3          3     381\n",
    "## 4          4     341"
   ]
  },
  {
   "cell_type": "code",
   "execution_count": 15,
   "metadata": {},
   "outputs": [
    {
     "name": "stdout",
     "output_type": "stream",
     "text": [
      "condition\n",
      "C_1    338.25\n",
      "C_2    397.25\n",
      "C_3    386.25\n",
      "Name: RT, dtype: float64\n"
     ]
    }
   ],
   "source": [
    "# mean reaction time for each condition\n",
    "mean_RT = tidy_data.groupby('condition')['RT'].mean()\n",
    "print(mean_RT)"
   ]
  },
  {
   "cell_type": "code",
   "execution_count": 17,
   "metadata": {},
   "outputs": [
    {
     "name": "stdout",
     "output_type": "stream",
     "text": [
      "subject_id\n",
      "1    370\n",
      "2    404\n",
      "3    381\n",
      "4    341\n",
      "Name: RT, dtype: int64\n"
     ]
    }
   ],
   "source": [
    "# mean reaction time for each participant\n",
    "mean_RT = tidy_data.groupby('subject_id')['RT'].mean()\n",
    "#print(mean_RT)\n",
    "# round to integer\n",
    "mean_RT = tidy_data.groupby('subject_id')['RT'].mean().round().astype(int)\n",
    "print(mean_RT)"
   ]
  },
  {
   "cell_type": "markdown",
   "metadata": {},
   "source": [
    "#kof"
   ]
  }
 ],
 "metadata": {
  "kernelspec": {
   "display_name": "HLL",
   "language": "python",
   "name": "python3"
  },
  "language_info": {
   "codemirror_mode": {
    "name": "ipython",
    "version": 3
   },
   "file_extension": ".py",
   "mimetype": "text/x-python",
   "name": "python",
   "nbconvert_exporter": "python",
   "pygments_lexer": "ipython3",
   "version": "3.10.14"
  }
 },
 "nbformat": 4,
 "nbformat_minor": 2
}
