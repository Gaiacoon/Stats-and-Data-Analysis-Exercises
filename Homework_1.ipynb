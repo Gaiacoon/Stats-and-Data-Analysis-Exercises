{
 "cells": [
  {
   "cell_type": "markdown",
   "id": "f6549bce",
   "metadata": {},
   "source": [
    "## Task 1\n",
    "\n",
    "### The data set I: Creating a table in RMarkdown\n",
    "\n",
    "#### Overview of variables in the data set\n",
    "\n",
    "| **Variable**      | **Variable type** | **Values**                                                                 |\n",
    "|:-----------------:|:-----------------:|:--------------------------------------------------------------------------|\n",
    "| brain regions     | ?                 | (?, Precentral, Lateral Occipital, Transverse temporal, Temporal pole)     |\n",
    "| surface area      | ?                 | (5941.8, 4718.8, 4672.9, 799.48, 443.3)                                    |\n",
    "| thickness         | ?                 | (2.59, 2.74, 2.3, 2.52, 3.66)                                              |\n",
    "| hemisphere        | ?                 | (?, ?, L, R, R)                                                            |"
   ]
  },
  {
   "cell_type": "code",
   "execution_count": 1,
   "id": "1d312341",
   "metadata": {},
   "outputs": [],
   "source": [
    "import pandas as pd\n",
    "import numpy as np"
   ]
  },
  {
   "cell_type": "code",
   "execution_count": 6,
   "id": "0af1086c",
   "metadata": {},
   "outputs": [
    {
     "name": "stdout",
     "output_type": "stream",
     "text": [
      "         brain_regions  surface_area  thickness hemisphere\n",
      "0                    ?       5941.80       2.59          ?\n",
      "1           Precentral       4718.80       2.74          ?\n",
      "2    Lateral Occipital       4672.90       2.30          L\n",
      "3  Transverse temporal        799.48       2.52          R\n",
      "4        Temporal pole        443.30       3.66          R\n",
      "             brain_regions  surface_area  thickness hemisphere\n",
      "0                        ?       5941.80       2.59          ?\n",
      "1               Precentral       4718.80       2.74          ?\n",
      "2        Lateral Occipital       4672.90       2.30          L\n",
      "3  Banks superior temporal        799.48       2.52          R\n",
      "4            Temporal pole        443.30       3.66          R\n"
     ]
    }
   ],
   "source": [
    "# Define the data\n",
    "data = {\n",
    "    'brain_regions': pd.Categorical(['?', 'Precentral', 'Lateral Occipital', 'Transverse temporal', 'Temporal pole']),\n",
    "    'surface_area': [5941.8, 4718.8, 4672.9, 799.48, 443.3],\n",
    "    'thickness': [2.59, 2.74, 2.3, 2.52, 3.66],\n",
    "    'hemisphere': pd.Categorical(['?', '?', 'L', 'R', 'R'])\n",
    "}\n",
    "\n",
    "# Create the DataFrame\n",
    "brain_data = pd.DataFrame(data)\n",
    "\n",
    "# Print the DataFrame\n",
    "print(brain_data)\n",
    "\n",
    "# Replace the incorrect value\n",
    "data = brain_data['brain_regions'] = brain_data['brain_regions'].cat.rename_categories({\n",
    "    'Transverse temporal': 'Banks superior temporal'\n",
    "})\n",
    "print(brain_data)"
   ]
  },
  {
   "cell_type": "code",
   "execution_count": 7,
   "id": "8e2fb624",
   "metadata": {},
   "outputs": [
    {
     "name": "stdout",
     "output_type": "stream",
     "text": [
      "2.74\n"
     ]
    }
   ],
   "source": [
    "# Using indexing (like in a matrix), extract the thickness for the brain region “Precentral” from the tibble.\n",
    "thikness = brain_data.loc[1, 'thickness']\n",
    "print(thikness)"
   ]
  },
  {
   "cell_type": "code",
   "execution_count": 8,
   "id": "5728e1a7",
   "metadata": {},
   "outputs": [
    {
     "name": "stdout",
     "output_type": "stream",
     "text": [
      "             brain_regions  surface_area  thickness hemisphere      volume\n",
      "0                        ?       5941.80       2.59          ?  15389.2620\n",
      "1               Precentral       4718.80       2.74          ?  12929.5120\n",
      "2        Lateral Occipital       4672.90       2.30          L  10747.6700\n",
      "3  Banks superior temporal        799.48       2.52          R   2014.6896\n",
      "4            Temporal pole        443.30       3.66          R   1622.4780\n"
     ]
    }
   ],
   "source": [
    "# volume = surface_area * thickness\n",
    "# create a new column volume\n",
    "brain_data2 = brain_data.assign(\n",
    "    volume=brain_data['surface_area'] * brain_data['thickness'])\n",
    "print(brain_data2)"
   ]
  },
  {
   "cell_type": "code",
   "execution_count": 25,
   "id": "6e6c9092",
   "metadata": {},
   "outputs": [
    {
     "name": "stdout",
     "output_type": "stream",
     "text": [
      "<class 'pandas.core.series.Series'>\n",
      "5\n"
     ]
    }
   ],
   "source": [
    "regions = brain_data2['brain_regions']\n",
    "print(type(regions))\n",
    "# convert to a data frame\n",
    "regions_df = pd.DataFrame(regions)\n",
    "# print(regions_df)\n",
    "print(len(regions_df['brain_regions']))"
   ]
  },
  {
   "cell_type": "code",
   "execution_count": 27,
   "id": "768d89ff",
   "metadata": {},
   "outputs": [
    {
     "name": "stdout",
     "output_type": "stream",
     "text": [
      "3\n"
     ]
    }
   ],
   "source": [
    "heimsp = brain_data2['hemisphere']\n",
    "print(len(brain_data2['hemisphere'].unique()))"
   ]
  },
  {
   "cell_type": "code",
   "execution_count": 33,
   "id": "5ae2ac97",
   "metadata": {},
   "outputs": [
    {
     "name": "stdout",
     "output_type": "stream",
     "text": [
      "             brain_regions\n",
      "3  Banks superior temporal\n",
      "4            Temporal pole\n"
     ]
    }
   ],
   "source": [
    "# brain_data2[str_detect(brain_data2$hemisphere, \"R\"),\"brain_regions\"]\n",
    "print(pd.DataFrame(\n",
    "    brain_data2[brain_data2['hemisphere'].str.contains('R')]['brain_regions']))"
   ]
  },
  {
   "cell_type": "code",
   "execution_count": 34,
   "id": "bd53cc15",
   "metadata": {},
   "outputs": [
    {
     "name": "stdout",
     "output_type": "stream",
     "text": [
      "0    15389.2620\n",
      "1    12929.5120\n",
      "2    10747.6700\n",
      "3     2014.6896\n",
      "4     1622.4780\n",
      "dtype: float64\n"
     ]
    }
   ],
   "source": [
    "x = brain_data2['surface_area']\n",
    "y = brain_data2['thickness']\n",
    "\n",
    "\n",
    "def calc_volume(x, y):\n",
    "    return x * y\n",
    "\n",
    "\n",
    "print(calc_volume(x, y))"
   ]
  },
  {
   "cell_type": "code",
   "execution_count": 36,
   "id": "8234bbf0",
   "metadata": {},
   "outputs": [
    {
     "name": "stdout",
     "output_type": "stream",
     "text": [
      "[0    15389.2620\n",
      "1    12929.5120\n",
      "2    10747.6700\n",
      "3     2014.6896\n",
      "4     1622.4780\n",
      "Name: volume, dtype: float64, 0    15389.2620\n",
      "1    12929.5120\n",
      "2    10747.6700\n",
      "3     2014.6896\n",
      "4     1622.4780\n",
      "dtype: float64]\n"
     ]
    }
   ],
   "source": [
    "# volume compare\n",
    "\n",
    "# create a list and store it as volume_compare; the two list elements are\n",
    "# volume1, which is the column volume from the data set brain_data2 and\n",
    "# volume2, which is the volume calculated by your function\n",
    "# print the list\n",
    "list_compare = [brain_data2['volume'], calc_volume(x, y)]\n",
    "print(list_compare)\n",
    "list2 = [brain_data2['volume']]"
   ]
  },
  {
   "cell_type": "markdown",
   "id": "87b35842",
   "metadata": {},
   "source": [
    "Suppose that we have the chance to measure the volume of each brain region directly. Here are the directly measured values for volume:\n",
    "\n",
    "    Rostral middle frontal = 17439\n",
    "    Precentral = 14351\n",
    "    Lateral Occipital = 12150\n",
    "    Banks = 2386\n",
    "    Temporal pole = 2280.1\n",
    "\n",
    "14.1 Create a new variable volume_true with the given values."
   ]
  },
  {
   "cell_type": "code",
   "execution_count": 39,
   "id": "28820c4d",
   "metadata": {},
   "outputs": [
    {
     "name": "stdout",
     "output_type": "stream",
     "text": [
      "             brain_regions  surface_area  thickness hemisphere      volume  \\\n",
      "0                        ?       5941.80       2.59          ?  15389.2620   \n",
      "1               Precentral       4718.80       2.74          ?  12929.5120   \n",
      "2        Lateral Occipital       4672.90       2.30          L  10747.6700   \n",
      "3  Banks superior temporal        799.48       2.52          R   2014.6896   \n",
      "4            Temporal pole        443.30       3.66          R   1622.4780   \n",
      "\n",
      "   valume_true  \n",
      "0      17439.0  \n",
      "1      14351.0  \n",
      "2      12150.0  \n",
      "3       2386.0  \n",
      "4       2280.1  \n"
     ]
    }
   ],
   "source": [
    "# crCreate a new variable volume_true with the given values.Rostral middle frontal = 17439Precentral = 14351Lateral Occipital = 12150Banks = 2386Temporpole = 2280.1\n",
    "# valume_true = [17439, 14351, 12150, 2386, 2280.1]\n",
    "brain_data3 = brain_data2.assign(\n",
    "    valume_true=[17439, 14351, 12150, 2386, 2280.1])\n",
    "print(brain_data3)"
   ]
  },
  {
   "cell_type": "code",
   "execution_count": 49,
   "id": "15ea52a5",
   "metadata": {},
   "outputs": [
    {
     "name": "stdout",
     "output_type": "stream",
     "text": [
      "0    15389.2620\n",
      "1    12929.5120\n",
      "2    10747.6700\n",
      "3     2014.6896\n",
      "4     1622.4780\n",
      "Name: volume, dtype: float64\n"
     ]
    }
   ],
   "source": [
    "volume_calculated = list_compare[0]\n",
    "# print(valume1)\n",
    "print(volume_calculated)"
   ]
  },
  {
   "cell_type": "code",
   "execution_count": 53,
   "id": "fd8e1f6d",
   "metadata": {},
   "outputs": [
    {
     "name": "stdout",
     "output_type": "stream",
     "text": [
      "0   -2049.7380\n",
      "1   -1421.4880\n",
      "2   -1402.3300\n",
      "3    -371.3104\n",
      "4    -657.6220\n",
      "dtype: float64\n"
     ]
    }
   ],
   "source": [
    "def diff_volume(volume_calculated, volume_true):\n",
    "    volume_calculated - volume_true\n",
    "    return volume_calculated - volume_true\n",
    "\n",
    "\n",
    "print(diff_volume(volume_calculated, brain_data3['valume_true']))"
   ]
  },
  {
   "cell_type": "code",
   "execution_count": 60,
   "id": "5f97d494",
   "metadata": {},
   "outputs": [
    {
     "name": "stdout",
     "output_type": "stream",
     "text": [
      "             brain_regions  surface_area  thickness hemisphere      volume  \\\n",
      "0                        ?       5941.80       2.59          ?  15389.2620   \n",
      "1               Precentral       4718.80       2.74          ?  12929.5120   \n",
      "2        Lateral Occipital       4672.90       2.30          L  10747.6700   \n",
      "3  Banks superior temporal        799.48       2.52          R   2014.6896   \n",
      "4            Temporal pole        443.30       3.66          R   1622.4780   \n",
      "\n",
      "   valume_true  \n",
      "0      17439.0  \n",
      "1      14351.0  \n",
      "2      12150.0  \n",
      "3       2386.0  \n",
      "4       2280.1  \n"
     ]
    }
   ],
   "source": [
    "brain_data4 = brain_data3.assign(diff_volume=diff_volume(\n",
    "    volume_calculated, brain_data3['valume_true']))\n",
    "# use only regions v1\n",
    "print(brain_data3)"
   ]
  },
  {
   "cell_type": "markdown",
   "id": "4fedda8f",
   "metadata": {},
   "source": [
    "Create a tibble with two variables: brain_regions (use regions_v1) and calculated_volume, which indicates the difference between the variables volume_calculated and volume_true (make use of your custom-built funtion). Store the tibble as “brain_data3” and print it."
   ]
  },
  {
   "cell_type": "code",
   "execution_count": 61,
   "id": "efdf9124",
   "metadata": {},
   "outputs": [],
   "source": [
    "new_tibbl = brain_data4[['brain_regions', 'volume', 'diff_volume']]"
   ]
  },
  {
   "cell_type": "code",
   "execution_count": 63,
   "id": "2bad5c81",
   "metadata": {},
   "outputs": [
    {
     "name": "stdout",
     "output_type": "stream",
     "text": [
      "4\n",
      "Temporal pole\n"
     ]
    }
   ],
   "source": [
    "import pandas as pd\n",
    "\n",
    "# Assuming brain_data3 is already defined\n",
    "\n",
    "\n",
    "# Find the index of the minimum value in the 'calculated_volume' column\n",
    "min_index = brain_data4['volume'].idxmin()\n",
    "print(min_index)\n",
    "\n",
    "# Select the value from the first column ('brain_regions') at the minimum index\n",
    "min_brain_region = brain_data3.iloc[min_index, 0]\n",
    "\n",
    "# Print the result\n",
    "print(min_brain_region)"
   ]
  },
  {
   "cell_type": "code",
   "execution_count": 64,
   "id": "cd1e18ac",
   "metadata": {},
   "outputs": [
    {
     "name": "stdout",
     "output_type": "stream",
     "text": [
      "['Gomez Adams', 'Morticia Adams', 'Pugsley Adams', 'Wednesday Adams', 'Uncle Fester', 'Grandma']\n"
     ]
    }
   ],
   "source": [
    "# Define the list of family members\n",
    "family = [\"Gomez\", \"Morticia\", \"Pugsley\",\n",
    "          \"Wednesday\", \"Uncle Fester\", \"Grandma\"]\n",
    "\n",
    "# Use a list comprehension to append \" Adams\" to the appropriate family members\n",
    "modified_family = [name + \" Adams\" if name not in [\"Uncle Fester\",\n",
    "                                                   \"Grandma\"] else name for name in family]\n",
    "\n",
    "# Print the modified list\n",
    "print(modified_family)"
   ]
  },
  {
   "cell_type": "markdown",
   "id": "e936cc9d",
   "metadata": {},
   "source": []
  }
 ],
 "metadata": {
  "kernelspec": {
   "display_name": "Python 3",
   "language": "python",
   "name": "python3"
  },
  "language_info": {
   "codemirror_mode": {
    "name": "ipython",
    "version": 3
   },
   "file_extension": ".py",
   "mimetype": "text/x-python",
   "name": "python",
   "nbconvert_exporter": "python",
   "pygments_lexer": "ipython3",
   "version": "3.10.14"
  }
 },
 "nbformat": 4,
 "nbformat_minor": 5
}
